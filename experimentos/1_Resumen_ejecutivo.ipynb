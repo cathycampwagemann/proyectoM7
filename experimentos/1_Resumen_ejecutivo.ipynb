{
  "nbformat": 4,
  "nbformat_minor": 0,
  "metadata": {
    "colab": {
      "provenance": []
    },
    "kernelspec": {
      "name": "python3",
      "display_name": "Python 3"
    },
    "language_info": {
      "name": "python"
    }
  },
  "cells": [
    {
      "cell_type": "markdown",
      "source": [
        "# **RESUMEN EJECUTIVO**"
      ],
      "metadata": {
        "id": "RhvPkupLHc0M"
      }
    },
    {
      "cell_type": "markdown",
      "source": [
        "## **Objetivo del documento**\n",
        "\n",
        "En el documento se indica el alcance del proyecto y el orden en que deben visualizarse los notebooks para una correcta comprensión del proceso seguido y sus conclusiones."
      ],
      "metadata": {
        "id": "GYVKyldVGlWs"
      }
    },
    {
      "cell_type": "markdown",
      "source": [
        "## **Alcance del proyecto**\n",
        "\n",
        "El proyecto tiene por objeto crear una solución de clasificación binaria para detectar neumonía en radiografías de tórax."
      ],
      "metadata": {
        "id": "uLjfkSUBIdfz"
      }
    },
    {
      "cell_type": "markdown",
      "source": [
        "## **Orden de los notebooks**\n",
        "\n",
        "1. Resumen ejecutivo.\n",
        "2. Exploración y análisis de datos.\n",
        "3. Ingeniería de características.\n",
        "4. Modelo mejor versión.\n",
        "5. Resultados y conclusiones."
      ],
      "metadata": {
        "id": "Mi5F_DsQIfN0"
      }
    }
  ]
}