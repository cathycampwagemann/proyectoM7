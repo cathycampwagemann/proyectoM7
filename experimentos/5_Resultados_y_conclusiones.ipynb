{
  "nbformat": 4,
  "nbformat_minor": 0,
  "metadata": {
    "colab": {
      "provenance": []
    },
    "kernelspec": {
      "name": "python3",
      "display_name": "Python 3"
    },
    "language_info": {
      "name": "python"
    }
  },
  "cells": [
    {
      "cell_type": "markdown",
      "source": [
        "# **RESULTADOS Y CONCLUSIONES**"
      ],
      "metadata": {
        "id": "_oa9T91UKd5R"
      }
    },
    {
      "cell_type": "markdown",
      "source": [
        "# **Conclusiones**\n",
        "\n",
        "*   Se logró la meta de prototipar una solución, es decir, un algoritmo de machine learning que permita determinar si una radiografía de tórax presenta signos de neumonía o no.\n",
        "*   Se experimentó con distintas redes reuronales convolucionales y cada una con distintos ajustes y cantidad de data. Se seleccionó la de mayor rendimiento.\n",
        "*   El algoritmo seleccionado es una red neuronal convolucional, que usa como base la red convolucional DenseNet, que fue ajustada en base a los requerimientos del proyecto (entre ellos, la clasificación binaria).\n",
        "*   El rendimiento del algoritmo seleccionado tuvo un rendimiento total de 89% (96,7% para el conjunto de entrenamiento, 83% para el conjunto de prueba, 87,5% para el conjunto de validación).\n",
        "\n",
        "\n",
        "\n",
        "\n"
      ],
      "metadata": {
        "id": "6xvBF19NKicB"
      }
    },
    {
      "cell_type": "markdown",
      "source": [
        "# **Discusiones sobre los resultados**\n",
        "\n",
        "*   Se obtuvieron mejores resultados utilizando más imágenes originales del dataset proporcionado que aumentando artificialmente la cantidad de imágenes.\n",
        "\n"
      ],
      "metadata": {
        "id": "_bC6ZKmLOLNS"
      }
    },
    {
      "cell_type": "markdown",
      "source": [
        "# **Limitaciones y áreas de mejoras**\n",
        "\n",
        "*   En una instancia de la red neuronal convolucional DenseNet se utiliza el argumento \"pretrained=True\", que recomiendan reemplazar por \"weight=None\", por obsolencia. No obstante, el rendimiento del algoritmo fue mejor con dicho argumento, por lo que se decidió mantener.\n",
        "*   Durante el procesamiento, si bien las imágenes fueron convertidas a escala de grises, fueron convertidas automáticamente a RGB, por las herramientas utilizadas, por lo que antes de ser procesadas por el algoritmo tuvieron que ser reconvertidas a escala de grises.\n"
      ],
      "metadata": {
        "id": "dJQp3_xZM5VQ"
      }
    }
  ]
}